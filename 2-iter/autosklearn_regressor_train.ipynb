{
 "cells": [
  {
   "cell_type": "markdown",
   "metadata": {},
   "source": [
    "# Auto-sklearn regressor training"
   ]
  },
  {
   "cell_type": "code",
   "execution_count": 1,
   "metadata": {
    "collapsed": true
   },
   "outputs": [],
   "source": [
    "import pickle"
   ]
  },
  {
   "cell_type": "code",
   "execution_count": 2,
   "metadata": {
    "collapsed": true
   },
   "outputs": [],
   "source": [
    "import sys\n",
    "sys.path.append('..')\n",
    "from utils import *"
   ]
  },
  {
   "cell_type": "code",
   "execution_count": 3,
   "metadata": {},
   "outputs": [
    {
     "data": {
      "text/plain": [
       "0.69245942891354983"
      ]
     },
     "execution_count": 3,
     "metadata": {},
     "output_type": "execute_result"
    }
   ],
   "source": [
    "x_train, y_train, eras_train = train_data(weras=True)\n",
    "x_val, y_val = val_data()\n",
    "bl = baseline(x_train, y_train, x_val, y_val)\n",
    "bl"
   ]
  },
  {
   "cell_type": "code",
   "execution_count": 4,
   "metadata": {},
   "outputs": [],
   "source": [
    "from autosklearn.regression import AutoSklearnRegressor\n",
    "from autosklearn.metrics import log_loss"
   ]
  },
  {
   "cell_type": "code",
   "execution_count": null,
   "metadata": {
    "collapsed": true
   },
   "outputs": [],
   "source": [
    "model = AutoSklearnRegressor(\n",
    "    resampling_strategy='cv',\n",
    "    resampling_strategy_arguments={'folds': 3},\n",
    "    tmp_folder='autosklearn/regressor/tmp/',\n",
    "    output_folder='autosklearn/regressor/out/',\n",
    "    delete_tmp_folder_after_terminate=False,\n",
    "    delete_output_folder_after_terminate=False,\n",
    "    shared_mode=True,\n",
    ")"
   ]
  },
  {
   "cell_type": "code",
   "execution_count": null,
   "metadata": {},
   "outputs": [
    {
     "name": "stdout",
     "output_type": "stream",
     "text": [
      "[WARNING] [2017-12-02 21:10:00,940:AutoMLSMBO(1)::numerai] Could not find meta-data directory /usr/local/lib/python3.5/dist-packages/autosklearn/metalearning/files/r2_regression_dense\n"
     ]
    },
    {
     "name": "stderr",
     "output_type": "stream",
     "text": [
      "/usr/local/lib/python3.5/dist-packages/autosklearn/smbo.py:671: RuntimeWarning: invalid value encountered in true_divide\n",
      "  (1. - dataset_minimum))\n",
      "/home/ubuntu/.local/lib/python3.5/site-packages/scipy/stats/_distn_infrastructure.py:879: RuntimeWarning: invalid value encountered in greater\n",
      "  return (self.a < x) & (x < self.b)\n",
      "/home/ubuntu/.local/lib/python3.5/site-packages/scipy/stats/_distn_infrastructure.py:879: RuntimeWarning: invalid value encountered in less\n",
      "  return (self.a < x) & (x < self.b)\n",
      "/home/ubuntu/.local/lib/python3.5/site-packages/scipy/stats/_distn_infrastructure.py:1735: RuntimeWarning: invalid value encountered in greater_equal\n",
      "  cond2 = (x >= self.b) & cond0\n",
      "/home/ubuntu/.local/lib/python3.5/site-packages/scipy/stats/_distn_infrastructure.py:876: RuntimeWarning: invalid value encountered in greater_equal\n",
      "  return (self.a <= x) & (x <= self.b)\n",
      "/home/ubuntu/.local/lib/python3.5/site-packages/scipy/stats/_distn_infrastructure.py:876: RuntimeWarning: invalid value encountered in less_equal\n",
      "  return (self.a <= x) & (x <= self.b)\n",
      "/usr/local/lib/python3.5/dist-packages/smac/optimizer/acquisition.py:165: RuntimeWarning: invalid value encountered in less\n",
      "  if (f < 0).any():\n"
     ]
    }
   ],
   "source": [
    "model.fit(x_train.as_matrix(), y_train.as_matrix(), dataset_name='numerai')"
   ]
  },
  {
   "cell_type": "code",
   "execution_count": null,
   "metadata": {
    "collapsed": true
   },
   "outputs": [],
   "source": [
    "with open('autosklearn/regressor/model.pkl', 'wb') as auto_sklearn_file:\n",
    "    pickle.dump(model, auto_sklearn_file)"
   ]
  }
 ],
 "metadata": {
  "kernelspec": {
   "display_name": "Python 3",
   "language": "python",
   "name": "python3"
  },
  "language_info": {
   "codemirror_mode": {
    "name": "ipython",
    "version": 3
   },
   "file_extension": ".py",
   "mimetype": "text/x-python",
   "name": "python",
   "nbconvert_exporter": "python",
   "pygments_lexer": "ipython3",
   "version": "3.5.2"
  }
 },
 "nbformat": 4,
 "nbformat_minor": 2
}
